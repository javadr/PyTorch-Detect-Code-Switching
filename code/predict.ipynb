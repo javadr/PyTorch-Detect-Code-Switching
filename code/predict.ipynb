{
 "cells": [
  {
   "cell_type": "code",
   "execution_count": 7,
   "id": "5d2f63cc",
   "metadata": {
    "scrolled": true
   },
   "outputs": [
    {
     "data": {
      "application/vnd.jupyter.widget-view+json": {
       "model_id": "",
       "version_major": 2,
       "version_minor": 0
      },
      "text/plain": [
       "Output()"
      ]
     },
     "metadata": {},
     "output_type": "display_data"
    },
    {
     "data": {
      "text/html": [
       "<pre style=\"white-space:pre;overflow-x:auto;line-height:normal;font-family:Menlo,'DejaVu Sans Mono',consolas,'Courier New',monospace\"></pre>\n"
      ],
      "text/plain": []
     },
     "metadata": {},
     "output_type": "display_data"
    },
    {
     "data": {
      "text/html": [
       "<pre style=\"white-space:pre;overflow-x:auto;line-height:normal;font-family:Menlo,'DejaVu Sans Mono',consolas,'Courier New',monospace\">\n",
       "</pre>\n"
      ],
      "text/plain": [
       "\n"
      ]
     },
     "metadata": {},
     "output_type": "display_data"
    },
    {
     "data": {
      "text/html": [
       "<pre style=\"white-space:pre;overflow-x:auto;line-height:normal;font-family:Menlo,'DejaVu Sans Mono',consolas,'Courier New',monospace\">Epoch  <span style=\"color: #008080; text-decoration-color: #008080; font-weight: bold\">0</span>/<span style=\"color: #008080; text-decoration-color: #008080; font-weight: bold\">14</span>, <span style=\"color: #808000; text-decoration-color: #808000\">loss</span>=<span style=\"color: #008080; text-decoration-color: #008080; font-weight: bold\">0.0000</span>, <span style=\"color: #808000; text-decoration-color: #808000\">val_loss</span>=<span style=\"color: #008080; text-decoration-color: #008080; font-weight: bold\">1.3876</span> ,<span style=\"color: #808000; text-decoration-color: #808000\">f1</span>=<span style=\"color: #800080; text-decoration-color: #800080\">nan</span>, <span style=\"color: #808000; text-decoration-color: #808000\">val_f1</span>=<span style=\"color: #008080; text-decoration-color: #008080; font-weight: bold\">0.1049</span> ,<span style=\"color: #808000; text-decoration-color: #808000\">acc</span>=<span style=\"color: #800080; text-decoration-color: #800080\">nan</span>, <span style=\"color: #808000; text-decoration-color: #808000\">val_acc</span>=<span style=\"color: #008080; text-decoration-color: #008080; font-weight: bold\">0.1022</span>\n",
       "</pre>\n"
      ],
      "text/plain": [
       "Epoch  \u001b[1;36m0\u001b[0m/\u001b[1;36m14\u001b[0m, \u001b[33mloss\u001b[0m=\u001b[1;36m0\u001b[0m\u001b[1;36m.0000\u001b[0m, \u001b[33mval_loss\u001b[0m=\u001b[1;36m1\u001b[0m\u001b[1;36m.3876\u001b[0m ,\u001b[33mf1\u001b[0m=\u001b[35mnan\u001b[0m, \u001b[33mval_f1\u001b[0m=\u001b[1;36m0\u001b[0m\u001b[1;36m.1049\u001b[0m ,\u001b[33macc\u001b[0m=\u001b[35mnan\u001b[0m, \u001b[33mval_acc\u001b[0m=\u001b[1;36m0\u001b[0m\u001b[1;36m.1022\u001b[0m\n"
      ]
     },
     "metadata": {},
     "output_type": "display_data"
    },
    {
     "data": {
      "application/vnd.jupyter.widget-view+json": {
       "model_id": "",
       "version_major": 2,
       "version_minor": 0
      },
      "text/plain": [
       "Output()"
      ]
     },
     "metadata": {},
     "output_type": "display_data"
    },
    {
     "data": {
      "text/html": [
       "<pre style=\"white-space:pre;overflow-x:auto;line-height:normal;font-family:Menlo,'DejaVu Sans Mono',consolas,'Courier New',monospace\"></pre>\n"
      ],
      "text/plain": []
     },
     "metadata": {},
     "output_type": "display_data"
    },
    {
     "data": {
      "text/html": [
       "<pre style=\"white-space:pre;overflow-x:auto;line-height:normal;font-family:Menlo,'DejaVu Sans Mono',consolas,'Courier New',monospace\">\n",
       "</pre>\n"
      ],
      "text/plain": [
       "\n"
      ]
     },
     "metadata": {},
     "output_type": "display_data"
    },
    {
     "data": {
      "application/vnd.jupyter.widget-view+json": {
       "model_id": "",
       "version_major": 2,
       "version_minor": 0
      },
      "text/plain": [
       "Output()"
      ]
     },
     "metadata": {},
     "output_type": "display_data"
    },
    {
     "data": {
      "text/html": [
       "<pre style=\"white-space:pre;overflow-x:auto;line-height:normal;font-family:Menlo,'DejaVu Sans Mono',consolas,'Courier New',monospace\"></pre>\n"
      ],
      "text/plain": []
     },
     "metadata": {},
     "output_type": "display_data"
    },
    {
     "data": {
      "text/html": [
       "<pre style=\"white-space:pre;overflow-x:auto;line-height:normal;font-family:Menlo,'DejaVu Sans Mono',consolas,'Courier New',monospace\">\n",
       "</pre>\n"
      ],
      "text/plain": [
       "\n"
      ]
     },
     "metadata": {},
     "output_type": "display_data"
    },
    {
     "data": {
      "text/html": [
       "<pre style=\"white-space:pre;overflow-x:auto;line-height:normal;font-family:Menlo,'DejaVu Sans Mono',consolas,'Courier New',monospace\">Epoch  <span style=\"color: #008080; text-decoration-color: #008080; font-weight: bold\">1</span>/<span style=\"color: #008080; text-decoration-color: #008080; font-weight: bold\">14</span>, <span style=\"color: #808000; text-decoration-color: #808000\">loss</span>=<span style=\"color: #008080; text-decoration-color: #008080; font-weight: bold\">0.5159</span>, <span style=\"color: #808000; text-decoration-color: #808000\">val_loss</span>=<span style=\"color: #008080; text-decoration-color: #008080; font-weight: bold\">0.3837</span> ,<span style=\"color: #808000; text-decoration-color: #808000\">f1</span>=<span style=\"color: #008080; text-decoration-color: #008080; font-weight: bold\">0.5475</span>, <span style=\"color: #808000; text-decoration-color: #808000\">val_f1</span>=<span style=\"color: #008080; text-decoration-color: #008080; font-weight: bold\">0.4899</span> ,<span style=\"color: #808000; text-decoration-color: #808000\">acc</span>=<span style=\"color: #008080; text-decoration-color: #008080; font-weight: bold\">0.7836</span>, \n",
       "<span style=\"color: #808000; text-decoration-color: #808000\">val_acc</span>=<span style=\"color: #008080; text-decoration-color: #008080; font-weight: bold\">0.7824</span>\n",
       "</pre>\n"
      ],
      "text/plain": [
       "Epoch  \u001b[1;36m1\u001b[0m/\u001b[1;36m14\u001b[0m, \u001b[33mloss\u001b[0m=\u001b[1;36m0\u001b[0m\u001b[1;36m.5159\u001b[0m, \u001b[33mval_loss\u001b[0m=\u001b[1;36m0\u001b[0m\u001b[1;36m.3837\u001b[0m ,\u001b[33mf1\u001b[0m=\u001b[1;36m0\u001b[0m\u001b[1;36m.5475\u001b[0m, \u001b[33mval_f1\u001b[0m=\u001b[1;36m0\u001b[0m\u001b[1;36m.4899\u001b[0m ,\u001b[33macc\u001b[0m=\u001b[1;36m0\u001b[0m\u001b[1;36m.7836\u001b[0m, \n",
       "\u001b[33mval_acc\u001b[0m=\u001b[1;36m0\u001b[0m\u001b[1;36m.7824\u001b[0m\n"
      ]
     },
     "metadata": {},
     "output_type": "display_data"
    },
    {
     "data": {
      "application/vnd.jupyter.widget-view+json": {
       "model_id": "",
       "version_major": 2,
       "version_minor": 0
      },
      "text/plain": [
       "Output()"
      ]
     },
     "metadata": {},
     "output_type": "display_data"
    },
    {
     "data": {
      "text/html": [
       "<pre style=\"white-space:pre;overflow-x:auto;line-height:normal;font-family:Menlo,'DejaVu Sans Mono',consolas,'Courier New',monospace\"></pre>\n"
      ],
      "text/plain": []
     },
     "metadata": {},
     "output_type": "display_data"
    },
    {
     "data": {
      "text/html": [
       "<pre style=\"white-space:pre;overflow-x:auto;line-height:normal;font-family:Menlo,'DejaVu Sans Mono',consolas,'Courier New',monospace\">\n",
       "</pre>\n"
      ],
      "text/plain": [
       "\n"
      ]
     },
     "metadata": {},
     "output_type": "display_data"
    },
    {
     "data": {
      "application/vnd.jupyter.widget-view+json": {
       "model_id": "",
       "version_major": 2,
       "version_minor": 0
      },
      "text/plain": [
       "Output()"
      ]
     },
     "metadata": {},
     "output_type": "display_data"
    },
    {
     "data": {
      "text/html": [
       "<pre style=\"white-space:pre;overflow-x:auto;line-height:normal;font-family:Menlo,'DejaVu Sans Mono',consolas,'Courier New',monospace\"></pre>\n"
      ],
      "text/plain": []
     },
     "metadata": {},
     "output_type": "display_data"
    },
    {
     "data": {
      "text/html": [
       "<pre style=\"white-space:pre;overflow-x:auto;line-height:normal;font-family:Menlo,'DejaVu Sans Mono',consolas,'Courier New',monospace\">\n",
       "</pre>\n"
      ],
      "text/plain": [
       "\n"
      ]
     },
     "metadata": {},
     "output_type": "display_data"
    },
    {
     "data": {
      "text/html": [
       "<pre style=\"white-space:pre;overflow-x:auto;line-height:normal;font-family:Menlo,'DejaVu Sans Mono',consolas,'Courier New',monospace\">Epoch  <span style=\"color: #008080; text-decoration-color: #008080; font-weight: bold\">2</span>/<span style=\"color: #008080; text-decoration-color: #008080; font-weight: bold\">14</span>, <span style=\"color: #808000; text-decoration-color: #808000\">loss</span>=<span style=\"color: #008080; text-decoration-color: #008080; font-weight: bold\">0.3066</span>, <span style=\"color: #808000; text-decoration-color: #808000\">val_loss</span>=<span style=\"color: #008080; text-decoration-color: #008080; font-weight: bold\">0.3144</span> ,<span style=\"color: #808000; text-decoration-color: #808000\">f1</span>=<span style=\"color: #008080; text-decoration-color: #008080; font-weight: bold\">0.6146</span>, <span style=\"color: #808000; text-decoration-color: #808000\">val_f1</span>=<span style=\"color: #008080; text-decoration-color: #008080; font-weight: bold\">0.5871</span> ,<span style=\"color: #808000; text-decoration-color: #808000\">acc</span>=<span style=\"color: #008080; text-decoration-color: #008080; font-weight: bold\">0.8564</span>, \n",
       "<span style=\"color: #808000; text-decoration-color: #808000\">val_acc</span>=<span style=\"color: #008080; text-decoration-color: #008080; font-weight: bold\">0.8181</span>\n",
       "</pre>\n"
      ],
      "text/plain": [
       "Epoch  \u001b[1;36m2\u001b[0m/\u001b[1;36m14\u001b[0m, \u001b[33mloss\u001b[0m=\u001b[1;36m0\u001b[0m\u001b[1;36m.3066\u001b[0m, \u001b[33mval_loss\u001b[0m=\u001b[1;36m0\u001b[0m\u001b[1;36m.3144\u001b[0m ,\u001b[33mf1\u001b[0m=\u001b[1;36m0\u001b[0m\u001b[1;36m.6146\u001b[0m, \u001b[33mval_f1\u001b[0m=\u001b[1;36m0\u001b[0m\u001b[1;36m.5871\u001b[0m ,\u001b[33macc\u001b[0m=\u001b[1;36m0\u001b[0m\u001b[1;36m.8564\u001b[0m, \n",
       "\u001b[33mval_acc\u001b[0m=\u001b[1;36m0\u001b[0m\u001b[1;36m.8181\u001b[0m\n"
      ]
     },
     "metadata": {},
     "output_type": "display_data"
    },
    {
     "data": {
      "application/vnd.jupyter.widget-view+json": {
       "model_id": "",
       "version_major": 2,
       "version_minor": 0
      },
      "text/plain": [
       "Output()"
      ]
     },
     "metadata": {},
     "output_type": "display_data"
    },
    {
     "data": {
      "text/html": [
       "<pre style=\"white-space:pre;overflow-x:auto;line-height:normal;font-family:Menlo,'DejaVu Sans Mono',consolas,'Courier New',monospace\"></pre>\n"
      ],
      "text/plain": []
     },
     "metadata": {},
     "output_type": "display_data"
    },
    {
     "data": {
      "text/html": [
       "<pre style=\"white-space:pre;overflow-x:auto;line-height:normal;font-family:Menlo,'DejaVu Sans Mono',consolas,'Courier New',monospace\">\n",
       "</pre>\n"
      ],
      "text/plain": [
       "\n"
      ]
     },
     "metadata": {},
     "output_type": "display_data"
    },
    {
     "data": {
      "application/vnd.jupyter.widget-view+json": {
       "model_id": "",
       "version_major": 2,
       "version_minor": 0
      },
      "text/plain": [
       "Output()"
      ]
     },
     "metadata": {},
     "output_type": "display_data"
    },
    {
     "data": {
      "text/html": [
       "<pre style=\"white-space:pre;overflow-x:auto;line-height:normal;font-family:Menlo,'DejaVu Sans Mono',consolas,'Courier New',monospace\"></pre>\n"
      ],
      "text/plain": []
     },
     "metadata": {},
     "output_type": "display_data"
    },
    {
     "data": {
      "text/html": [
       "<pre style=\"white-space:pre;overflow-x:auto;line-height:normal;font-family:Menlo,'DejaVu Sans Mono',consolas,'Courier New',monospace\">\n",
       "</pre>\n"
      ],
      "text/plain": [
       "\n"
      ]
     },
     "metadata": {},
     "output_type": "display_data"
    },
    {
     "data": {
      "text/html": [
       "<pre style=\"white-space:pre;overflow-x:auto;line-height:normal;font-family:Menlo,'DejaVu Sans Mono',consolas,'Courier New',monospace\">Epoch  <span style=\"color: #008080; text-decoration-color: #008080; font-weight: bold\">3</span>/<span style=\"color: #008080; text-decoration-color: #008080; font-weight: bold\">14</span>, <span style=\"color: #808000; text-decoration-color: #808000\">loss</span>=<span style=\"color: #008080; text-decoration-color: #008080; font-weight: bold\">0.2575</span>, <span style=\"color: #808000; text-decoration-color: #808000\">val_loss</span>=<span style=\"color: #008080; text-decoration-color: #008080; font-weight: bold\">0.2335</span> ,<span style=\"color: #808000; text-decoration-color: #808000\">f1</span>=<span style=\"color: #008080; text-decoration-color: #008080; font-weight: bold\">0.7257</span>, <span style=\"color: #808000; text-decoration-color: #808000\">val_f1</span>=<span style=\"color: #008080; text-decoration-color: #008080; font-weight: bold\">0.7903</span> ,<span style=\"color: #808000; text-decoration-color: #808000\">acc</span>=<span style=\"color: #008080; text-decoration-color: #008080; font-weight: bold\">0.8793</span>, \n",
       "<span style=\"color: #808000; text-decoration-color: #808000\">val_acc</span>=<span style=\"color: #008080; text-decoration-color: #008080; font-weight: bold\">0.9046</span>\n",
       "</pre>\n"
      ],
      "text/plain": [
       "Epoch  \u001b[1;36m3\u001b[0m/\u001b[1;36m14\u001b[0m, \u001b[33mloss\u001b[0m=\u001b[1;36m0\u001b[0m\u001b[1;36m.2575\u001b[0m, \u001b[33mval_loss\u001b[0m=\u001b[1;36m0\u001b[0m\u001b[1;36m.2335\u001b[0m ,\u001b[33mf1\u001b[0m=\u001b[1;36m0\u001b[0m\u001b[1;36m.7257\u001b[0m, \u001b[33mval_f1\u001b[0m=\u001b[1;36m0\u001b[0m\u001b[1;36m.7903\u001b[0m ,\u001b[33macc\u001b[0m=\u001b[1;36m0\u001b[0m\u001b[1;36m.8793\u001b[0m, \n",
       "\u001b[33mval_acc\u001b[0m=\u001b[1;36m0\u001b[0m\u001b[1;36m.9046\u001b[0m\n"
      ]
     },
     "metadata": {},
     "output_type": "display_data"
    },
    {
     "data": {
      "application/vnd.jupyter.widget-view+json": {
       "model_id": "",
       "version_major": 2,
       "version_minor": 0
      },
      "text/plain": [
       "Output()"
      ]
     },
     "metadata": {},
     "output_type": "display_data"
    },
    {
     "data": {
      "text/html": [
       "<pre style=\"white-space:pre;overflow-x:auto;line-height:normal;font-family:Menlo,'DejaVu Sans Mono',consolas,'Courier New',monospace\"></pre>\n"
      ],
      "text/plain": []
     },
     "metadata": {},
     "output_type": "display_data"
    },
    {
     "data": {
      "text/html": [
       "<pre style=\"white-space:pre;overflow-x:auto;line-height:normal;font-family:Menlo,'DejaVu Sans Mono',consolas,'Courier New',monospace\">\n",
       "</pre>\n"
      ],
      "text/plain": [
       "\n"
      ]
     },
     "metadata": {},
     "output_type": "display_data"
    },
    {
     "data": {
      "application/vnd.jupyter.widget-view+json": {
       "model_id": "",
       "version_major": 2,
       "version_minor": 0
      },
      "text/plain": [
       "Output()"
      ]
     },
     "metadata": {},
     "output_type": "display_data"
    },
    {
     "data": {
      "text/html": [
       "<pre style=\"white-space:pre;overflow-x:auto;line-height:normal;font-family:Menlo,'DejaVu Sans Mono',consolas,'Courier New',monospace\"></pre>\n"
      ],
      "text/plain": []
     },
     "metadata": {},
     "output_type": "display_data"
    },
    {
     "data": {
      "text/html": [
       "<pre style=\"white-space:pre;overflow-x:auto;line-height:normal;font-family:Menlo,'DejaVu Sans Mono',consolas,'Courier New',monospace\">\n",
       "</pre>\n"
      ],
      "text/plain": [
       "\n"
      ]
     },
     "metadata": {},
     "output_type": "display_data"
    },
    {
     "data": {
      "text/html": [
       "<pre style=\"white-space:pre;overflow-x:auto;line-height:normal;font-family:Menlo,'DejaVu Sans Mono',consolas,'Courier New',monospace\">Epoch  <span style=\"color: #008080; text-decoration-color: #008080; font-weight: bold\">4</span>/<span style=\"color: #008080; text-decoration-color: #008080; font-weight: bold\">14</span>, <span style=\"color: #808000; text-decoration-color: #808000\">loss</span>=<span style=\"color: #008080; text-decoration-color: #008080; font-weight: bold\">0.1867</span>, <span style=\"color: #808000; text-decoration-color: #808000\">val_loss</span>=<span style=\"color: #008080; text-decoration-color: #008080; font-weight: bold\">0.1778</span> ,<span style=\"color: #808000; text-decoration-color: #808000\">f1</span>=<span style=\"color: #008080; text-decoration-color: #008080; font-weight: bold\">0.8299</span>, <span style=\"color: #808000; text-decoration-color: #808000\">val_f1</span>=<span style=\"color: #008080; text-decoration-color: #008080; font-weight: bold\">0.8339</span> ,<span style=\"color: #808000; text-decoration-color: #808000\">acc</span>=<span style=\"color: #008080; text-decoration-color: #008080; font-weight: bold\">0.9202</span>, \n",
       "<span style=\"color: #808000; text-decoration-color: #808000\">val_acc</span>=<span style=\"color: #008080; text-decoration-color: #008080; font-weight: bold\">0.9262</span>\n",
       "</pre>\n"
      ],
      "text/plain": [
       "Epoch  \u001b[1;36m4\u001b[0m/\u001b[1;36m14\u001b[0m, \u001b[33mloss\u001b[0m=\u001b[1;36m0\u001b[0m\u001b[1;36m.1867\u001b[0m, \u001b[33mval_loss\u001b[0m=\u001b[1;36m0\u001b[0m\u001b[1;36m.1778\u001b[0m ,\u001b[33mf1\u001b[0m=\u001b[1;36m0\u001b[0m\u001b[1;36m.8299\u001b[0m, \u001b[33mval_f1\u001b[0m=\u001b[1;36m0\u001b[0m\u001b[1;36m.8339\u001b[0m ,\u001b[33macc\u001b[0m=\u001b[1;36m0\u001b[0m\u001b[1;36m.9202\u001b[0m, \n",
       "\u001b[33mval_acc\u001b[0m=\u001b[1;36m0\u001b[0m\u001b[1;36m.9262\u001b[0m\n"
      ]
     },
     "metadata": {},
     "output_type": "display_data"
    },
    {
     "data": {
      "application/vnd.jupyter.widget-view+json": {
       "model_id": "",
       "version_major": 2,
       "version_minor": 0
      },
      "text/plain": [
       "Output()"
      ]
     },
     "metadata": {},
     "output_type": "display_data"
    },
    {
     "data": {
      "text/html": [
       "<pre style=\"white-space:pre;overflow-x:auto;line-height:normal;font-family:Menlo,'DejaVu Sans Mono',consolas,'Courier New',monospace\"></pre>\n"
      ],
      "text/plain": []
     },
     "metadata": {},
     "output_type": "display_data"
    },
    {
     "data": {
      "text/html": [
       "<pre style=\"white-space:pre;overflow-x:auto;line-height:normal;font-family:Menlo,'DejaVu Sans Mono',consolas,'Courier New',monospace\">\n",
       "</pre>\n"
      ],
      "text/plain": [
       "\n"
      ]
     },
     "metadata": {},
     "output_type": "display_data"
    },
    {
     "data": {
      "application/vnd.jupyter.widget-view+json": {
       "model_id": "",
       "version_major": 2,
       "version_minor": 0
      },
      "text/plain": [
       "Output()"
      ]
     },
     "metadata": {},
     "output_type": "display_data"
    },
    {
     "data": {
      "text/html": [
       "<pre style=\"white-space:pre;overflow-x:auto;line-height:normal;font-family:Menlo,'DejaVu Sans Mono',consolas,'Courier New',monospace\"></pre>\n"
      ],
      "text/plain": []
     },
     "metadata": {},
     "output_type": "display_data"
    },
    {
     "data": {
      "text/html": [
       "<pre style=\"white-space:pre;overflow-x:auto;line-height:normal;font-family:Menlo,'DejaVu Sans Mono',consolas,'Courier New',monospace\">\n",
       "</pre>\n"
      ],
      "text/plain": [
       "\n"
      ]
     },
     "metadata": {},
     "output_type": "display_data"
    },
    {
     "data": {
      "text/html": [
       "<pre style=\"white-space:pre;overflow-x:auto;line-height:normal;font-family:Menlo,'DejaVu Sans Mono',consolas,'Courier New',monospace\">Epoch  <span style=\"color: #008080; text-decoration-color: #008080; font-weight: bold\">5</span>/<span style=\"color: #008080; text-decoration-color: #008080; font-weight: bold\">14</span>, <span style=\"color: #808000; text-decoration-color: #808000\">loss</span>=<span style=\"color: #008080; text-decoration-color: #008080; font-weight: bold\">0.1506</span>, <span style=\"color: #808000; text-decoration-color: #808000\">val_loss</span>=<span style=\"color: #008080; text-decoration-color: #008080; font-weight: bold\">0.1702</span> ,<span style=\"color: #808000; text-decoration-color: #808000\">f1</span>=<span style=\"color: #008080; text-decoration-color: #008080; font-weight: bold\">0.8548</span>, <span style=\"color: #808000; text-decoration-color: #808000\">val_f1</span>=<span style=\"color: #008080; text-decoration-color: #008080; font-weight: bold\">0.8374</span> ,<span style=\"color: #808000; text-decoration-color: #808000\">acc</span>=<span style=\"color: #008080; text-decoration-color: #008080; font-weight: bold\">0.9338</span>, \n",
       "<span style=\"color: #808000; text-decoration-color: #808000\">val_acc</span>=<span style=\"color: #008080; text-decoration-color: #008080; font-weight: bold\">0.9273</span>\n",
       "</pre>\n"
      ],
      "text/plain": [
       "Epoch  \u001b[1;36m5\u001b[0m/\u001b[1;36m14\u001b[0m, \u001b[33mloss\u001b[0m=\u001b[1;36m0\u001b[0m\u001b[1;36m.1506\u001b[0m, \u001b[33mval_loss\u001b[0m=\u001b[1;36m0\u001b[0m\u001b[1;36m.1702\u001b[0m ,\u001b[33mf1\u001b[0m=\u001b[1;36m0\u001b[0m\u001b[1;36m.8548\u001b[0m, \u001b[33mval_f1\u001b[0m=\u001b[1;36m0\u001b[0m\u001b[1;36m.8374\u001b[0m ,\u001b[33macc\u001b[0m=\u001b[1;36m0\u001b[0m\u001b[1;36m.9338\u001b[0m, \n",
       "\u001b[33mval_acc\u001b[0m=\u001b[1;36m0\u001b[0m\u001b[1;36m.9273\u001b[0m\n"
      ]
     },
     "metadata": {},
     "output_type": "display_data"
    },
    {
     "data": {
      "application/vnd.jupyter.widget-view+json": {
       "model_id": "",
       "version_major": 2,
       "version_minor": 0
      },
      "text/plain": [
       "Output()"
      ]
     },
     "metadata": {},
     "output_type": "display_data"
    },
    {
     "data": {
      "text/html": [
       "<pre style=\"white-space:pre;overflow-x:auto;line-height:normal;font-family:Menlo,'DejaVu Sans Mono',consolas,'Courier New',monospace\"></pre>\n"
      ],
      "text/plain": []
     },
     "metadata": {},
     "output_type": "display_data"
    },
    {
     "data": {
      "text/html": [
       "<pre style=\"white-space:pre;overflow-x:auto;line-height:normal;font-family:Menlo,'DejaVu Sans Mono',consolas,'Courier New',monospace\">\n",
       "</pre>\n"
      ],
      "text/plain": [
       "\n"
      ]
     },
     "metadata": {},
     "output_type": "display_data"
    },
    {
     "data": {
      "application/vnd.jupyter.widget-view+json": {
       "model_id": "",
       "version_major": 2,
       "version_minor": 0
      },
      "text/plain": [
       "Output()"
      ]
     },
     "metadata": {},
     "output_type": "display_data"
    },
    {
     "data": {
      "text/html": [
       "<pre style=\"white-space:pre;overflow-x:auto;line-height:normal;font-family:Menlo,'DejaVu Sans Mono',consolas,'Courier New',monospace\"></pre>\n"
      ],
      "text/plain": []
     },
     "metadata": {},
     "output_type": "display_data"
    },
    {
     "data": {
      "text/html": [
       "<pre style=\"white-space:pre;overflow-x:auto;line-height:normal;font-family:Menlo,'DejaVu Sans Mono',consolas,'Courier New',monospace\">\n",
       "</pre>\n"
      ],
      "text/plain": [
       "\n"
      ]
     },
     "metadata": {},
     "output_type": "display_data"
    },
    {
     "data": {
      "text/html": [
       "<pre style=\"white-space:pre;overflow-x:auto;line-height:normal;font-family:Menlo,'DejaVu Sans Mono',consolas,'Courier New',monospace\">Epoch  <span style=\"color: #008080; text-decoration-color: #008080; font-weight: bold\">6</span>/<span style=\"color: #008080; text-decoration-color: #008080; font-weight: bold\">14</span>, <span style=\"color: #808000; text-decoration-color: #808000\">loss</span>=<span style=\"color: #008080; text-decoration-color: #008080; font-weight: bold\">0.1354</span>, <span style=\"color: #808000; text-decoration-color: #808000\">val_loss</span>=<span style=\"color: #008080; text-decoration-color: #008080; font-weight: bold\">0.1595</span> ,<span style=\"color: #808000; text-decoration-color: #808000\">f1</span>=<span style=\"color: #008080; text-decoration-color: #008080; font-weight: bold\">0.8647</span>, <span style=\"color: #808000; text-decoration-color: #808000\">val_f1</span>=<span style=\"color: #008080; text-decoration-color: #008080; font-weight: bold\">0.8465</span> ,<span style=\"color: #808000; text-decoration-color: #808000\">acc</span>=<span style=\"color: #008080; text-decoration-color: #008080; font-weight: bold\">0.9389</span>, \n",
       "<span style=\"color: #808000; text-decoration-color: #808000\">val_acc</span>=<span style=\"color: #008080; text-decoration-color: #008080; font-weight: bold\">0.9321</span>\n",
       "</pre>\n"
      ],
      "text/plain": [
       "Epoch  \u001b[1;36m6\u001b[0m/\u001b[1;36m14\u001b[0m, \u001b[33mloss\u001b[0m=\u001b[1;36m0\u001b[0m\u001b[1;36m.1354\u001b[0m, \u001b[33mval_loss\u001b[0m=\u001b[1;36m0\u001b[0m\u001b[1;36m.1595\u001b[0m ,\u001b[33mf1\u001b[0m=\u001b[1;36m0\u001b[0m\u001b[1;36m.8647\u001b[0m, \u001b[33mval_f1\u001b[0m=\u001b[1;36m0\u001b[0m\u001b[1;36m.8465\u001b[0m ,\u001b[33macc\u001b[0m=\u001b[1;36m0\u001b[0m\u001b[1;36m.9389\u001b[0m, \n",
       "\u001b[33mval_acc\u001b[0m=\u001b[1;36m0\u001b[0m\u001b[1;36m.9321\u001b[0m\n"
      ]
     },
     "metadata": {},
     "output_type": "display_data"
    },
    {
     "data": {
      "application/vnd.jupyter.widget-view+json": {
       "model_id": "",
       "version_major": 2,
       "version_minor": 0
      },
      "text/plain": [
       "Output()"
      ]
     },
     "metadata": {},
     "output_type": "display_data"
    },
    {
     "data": {
      "text/html": [
       "<pre style=\"white-space:pre;overflow-x:auto;line-height:normal;font-family:Menlo,'DejaVu Sans Mono',consolas,'Courier New',monospace\"></pre>\n"
      ],
      "text/plain": []
     },
     "metadata": {},
     "output_type": "display_data"
    },
    {
     "data": {
      "text/html": [
       "<pre style=\"white-space:pre;overflow-x:auto;line-height:normal;font-family:Menlo,'DejaVu Sans Mono',consolas,'Courier New',monospace\">\n",
       "</pre>\n"
      ],
      "text/plain": [
       "\n"
      ]
     },
     "metadata": {},
     "output_type": "display_data"
    },
    {
     "data": {
      "application/vnd.jupyter.widget-view+json": {
       "model_id": "",
       "version_major": 2,
       "version_minor": 0
      },
      "text/plain": [
       "Output()"
      ]
     },
     "metadata": {},
     "output_type": "display_data"
    },
    {
     "data": {
      "text/html": [
       "<pre style=\"white-space:pre;overflow-x:auto;line-height:normal;font-family:Menlo,'DejaVu Sans Mono',consolas,'Courier New',monospace\"></pre>\n"
      ],
      "text/plain": []
     },
     "metadata": {},
     "output_type": "display_data"
    },
    {
     "data": {
      "text/html": [
       "<pre style=\"white-space:pre;overflow-x:auto;line-height:normal;font-family:Menlo,'DejaVu Sans Mono',consolas,'Courier New',monospace\">\n",
       "</pre>\n"
      ],
      "text/plain": [
       "\n"
      ]
     },
     "metadata": {},
     "output_type": "display_data"
    },
    {
     "data": {
      "text/html": [
       "<pre style=\"white-space:pre;overflow-x:auto;line-height:normal;font-family:Menlo,'DejaVu Sans Mono',consolas,'Courier New',monospace\">Epoch  <span style=\"color: #008080; text-decoration-color: #008080; font-weight: bold\">7</span>/<span style=\"color: #008080; text-decoration-color: #008080; font-weight: bold\">14</span>, <span style=\"color: #808000; text-decoration-color: #808000\">loss</span>=<span style=\"color: #008080; text-decoration-color: #008080; font-weight: bold\">0.1278</span>, <span style=\"color: #808000; text-decoration-color: #808000\">val_loss</span>=<span style=\"color: #008080; text-decoration-color: #008080; font-weight: bold\">0.1496</span> ,<span style=\"color: #808000; text-decoration-color: #808000\">f1</span>=<span style=\"color: #008080; text-decoration-color: #008080; font-weight: bold\">0.8703</span>, <span style=\"color: #808000; text-decoration-color: #808000\">val_f1</span>=<span style=\"color: #008080; text-decoration-color: #008080; font-weight: bold\">0.8492</span> ,<span style=\"color: #808000; text-decoration-color: #808000\">acc</span>=<span style=\"color: #008080; text-decoration-color: #008080; font-weight: bold\">0.9413</span>, \n",
       "<span style=\"color: #808000; text-decoration-color: #808000\">val_acc</span>=<span style=\"color: #008080; text-decoration-color: #008080; font-weight: bold\">0.9339</span>\n",
       "</pre>\n"
      ],
      "text/plain": [
       "Epoch  \u001b[1;36m7\u001b[0m/\u001b[1;36m14\u001b[0m, \u001b[33mloss\u001b[0m=\u001b[1;36m0\u001b[0m\u001b[1;36m.1278\u001b[0m, \u001b[33mval_loss\u001b[0m=\u001b[1;36m0\u001b[0m\u001b[1;36m.1496\u001b[0m ,\u001b[33mf1\u001b[0m=\u001b[1;36m0\u001b[0m\u001b[1;36m.8703\u001b[0m, \u001b[33mval_f1\u001b[0m=\u001b[1;36m0\u001b[0m\u001b[1;36m.8492\u001b[0m ,\u001b[33macc\u001b[0m=\u001b[1;36m0\u001b[0m\u001b[1;36m.9413\u001b[0m, \n",
       "\u001b[33mval_acc\u001b[0m=\u001b[1;36m0\u001b[0m\u001b[1;36m.9339\u001b[0m\n"
      ]
     },
     "metadata": {},
     "output_type": "display_data"
    },
    {
     "data": {
      "application/vnd.jupyter.widget-view+json": {
       "model_id": "",
       "version_major": 2,
       "version_minor": 0
      },
      "text/plain": [
       "Output()"
      ]
     },
     "metadata": {},
     "output_type": "display_data"
    },
    {
     "data": {
      "text/html": [
       "<pre style=\"white-space:pre;overflow-x:auto;line-height:normal;font-family:Menlo,'DejaVu Sans Mono',consolas,'Courier New',monospace\"></pre>\n"
      ],
      "text/plain": []
     },
     "metadata": {},
     "output_type": "display_data"
    },
    {
     "data": {
      "text/html": [
       "<pre style=\"white-space:pre;overflow-x:auto;line-height:normal;font-family:Menlo,'DejaVu Sans Mono',consolas,'Courier New',monospace\">\n",
       "</pre>\n"
      ],
      "text/plain": [
       "\n"
      ]
     },
     "metadata": {},
     "output_type": "display_data"
    },
    {
     "data": {
      "application/vnd.jupyter.widget-view+json": {
       "model_id": "",
       "version_major": 2,
       "version_minor": 0
      },
      "text/plain": [
       "Output()"
      ]
     },
     "metadata": {},
     "output_type": "display_data"
    },
    {
     "data": {
      "text/html": [
       "<pre style=\"white-space:pre;overflow-x:auto;line-height:normal;font-family:Menlo,'DejaVu Sans Mono',consolas,'Courier New',monospace\"></pre>\n"
      ],
      "text/plain": []
     },
     "metadata": {},
     "output_type": "display_data"
    },
    {
     "data": {
      "text/html": [
       "<pre style=\"white-space:pre;overflow-x:auto;line-height:normal;font-family:Menlo,'DejaVu Sans Mono',consolas,'Courier New',monospace\">\n",
       "</pre>\n"
      ],
      "text/plain": [
       "\n"
      ]
     },
     "metadata": {},
     "output_type": "display_data"
    },
    {
     "data": {
      "text/html": [
       "<pre style=\"white-space:pre;overflow-x:auto;line-height:normal;font-family:Menlo,'DejaVu Sans Mono',consolas,'Courier New',monospace\">Epoch  <span style=\"color: #008080; text-decoration-color: #008080; font-weight: bold\">8</span>/<span style=\"color: #008080; text-decoration-color: #008080; font-weight: bold\">14</span>, <span style=\"color: #808000; text-decoration-color: #808000\">loss</span>=<span style=\"color: #008080; text-decoration-color: #008080; font-weight: bold\">0.1207</span>, <span style=\"color: #808000; text-decoration-color: #808000\">val_loss</span>=<span style=\"color: #008080; text-decoration-color: #008080; font-weight: bold\">0.1467</span> ,<span style=\"color: #808000; text-decoration-color: #808000\">f1</span>=<span style=\"color: #008080; text-decoration-color: #008080; font-weight: bold\">0.8761</span>, <span style=\"color: #808000; text-decoration-color: #808000\">val_f1</span>=<span style=\"color: #008080; text-decoration-color: #008080; font-weight: bold\">0.8544</span> ,<span style=\"color: #808000; text-decoration-color: #808000\">acc</span>=<span style=\"color: #008080; text-decoration-color: #008080; font-weight: bold\">0.9439</span>, \n",
       "<span style=\"color: #808000; text-decoration-color: #808000\">val_acc</span>=<span style=\"color: #008080; text-decoration-color: #008080; font-weight: bold\">0.9360</span>\n",
       "</pre>\n"
      ],
      "text/plain": [
       "Epoch  \u001b[1;36m8\u001b[0m/\u001b[1;36m14\u001b[0m, \u001b[33mloss\u001b[0m=\u001b[1;36m0\u001b[0m\u001b[1;36m.1207\u001b[0m, \u001b[33mval_loss\u001b[0m=\u001b[1;36m0\u001b[0m\u001b[1;36m.1467\u001b[0m ,\u001b[33mf1\u001b[0m=\u001b[1;36m0\u001b[0m\u001b[1;36m.8761\u001b[0m, \u001b[33mval_f1\u001b[0m=\u001b[1;36m0\u001b[0m\u001b[1;36m.8544\u001b[0m ,\u001b[33macc\u001b[0m=\u001b[1;36m0\u001b[0m\u001b[1;36m.9439\u001b[0m, \n",
       "\u001b[33mval_acc\u001b[0m=\u001b[1;36m0\u001b[0m\u001b[1;36m.9360\u001b[0m\n"
      ]
     },
     "metadata": {},
     "output_type": "display_data"
    },
    {
     "data": {
      "application/vnd.jupyter.widget-view+json": {
       "model_id": "",
       "version_major": 2,
       "version_minor": 0
      },
      "text/plain": [
       "Output()"
      ]
     },
     "metadata": {},
     "output_type": "display_data"
    },
    {
     "data": {
      "text/html": [
       "<pre style=\"white-space:pre;overflow-x:auto;line-height:normal;font-family:Menlo,'DejaVu Sans Mono',consolas,'Courier New',monospace\"></pre>\n"
      ],
      "text/plain": []
     },
     "metadata": {},
     "output_type": "display_data"
    },
    {
     "data": {
      "text/html": [
       "<pre style=\"white-space:pre;overflow-x:auto;line-height:normal;font-family:Menlo,'DejaVu Sans Mono',consolas,'Courier New',monospace\">\n",
       "</pre>\n"
      ],
      "text/plain": [
       "\n"
      ]
     },
     "metadata": {},
     "output_type": "display_data"
    },
    {
     "data": {
      "application/vnd.jupyter.widget-view+json": {
       "model_id": "",
       "version_major": 2,
       "version_minor": 0
      },
      "text/plain": [
       "Output()"
      ]
     },
     "metadata": {},
     "output_type": "display_data"
    },
    {
     "data": {
      "text/html": [
       "<pre style=\"white-space:pre;overflow-x:auto;line-height:normal;font-family:Menlo,'DejaVu Sans Mono',consolas,'Courier New',monospace\"></pre>\n"
      ],
      "text/plain": []
     },
     "metadata": {},
     "output_type": "display_data"
    },
    {
     "data": {
      "text/html": [
       "<pre style=\"white-space:pre;overflow-x:auto;line-height:normal;font-family:Menlo,'DejaVu Sans Mono',consolas,'Courier New',monospace\">\n",
       "</pre>\n"
      ],
      "text/plain": [
       "\n"
      ]
     },
     "metadata": {},
     "output_type": "display_data"
    },
    {
     "data": {
      "text/html": [
       "<pre style=\"white-space:pre;overflow-x:auto;line-height:normal;font-family:Menlo,'DejaVu Sans Mono',consolas,'Courier New',monospace\">Epoch  <span style=\"color: #008080; text-decoration-color: #008080; font-weight: bold\">9</span>/<span style=\"color: #008080; text-decoration-color: #008080; font-weight: bold\">14</span>, <span style=\"color: #808000; text-decoration-color: #808000\">loss</span>=<span style=\"color: #008080; text-decoration-color: #008080; font-weight: bold\">0.1160</span>, <span style=\"color: #808000; text-decoration-color: #808000\">val_loss</span>=<span style=\"color: #008080; text-decoration-color: #008080; font-weight: bold\">0.1438</span> ,<span style=\"color: #808000; text-decoration-color: #808000\">f1</span>=<span style=\"color: #008080; text-decoration-color: #008080; font-weight: bold\">0.8801</span>, <span style=\"color: #808000; text-decoration-color: #808000\">val_f1</span>=<span style=\"color: #008080; text-decoration-color: #008080; font-weight: bold\">0.8568</span> ,<span style=\"color: #808000; text-decoration-color: #808000\">acc</span>=<span style=\"color: #008080; text-decoration-color: #008080; font-weight: bold\">0.9457</span>, \n",
       "<span style=\"color: #808000; text-decoration-color: #808000\">val_acc</span>=<span style=\"color: #008080; text-decoration-color: #008080; font-weight: bold\">0.9372</span>\n",
       "</pre>\n"
      ],
      "text/plain": [
       "Epoch  \u001b[1;36m9\u001b[0m/\u001b[1;36m14\u001b[0m, \u001b[33mloss\u001b[0m=\u001b[1;36m0\u001b[0m\u001b[1;36m.1160\u001b[0m, \u001b[33mval_loss\u001b[0m=\u001b[1;36m0\u001b[0m\u001b[1;36m.1438\u001b[0m ,\u001b[33mf1\u001b[0m=\u001b[1;36m0\u001b[0m\u001b[1;36m.8801\u001b[0m, \u001b[33mval_f1\u001b[0m=\u001b[1;36m0\u001b[0m\u001b[1;36m.8568\u001b[0m ,\u001b[33macc\u001b[0m=\u001b[1;36m0\u001b[0m\u001b[1;36m.9457\u001b[0m, \n",
       "\u001b[33mval_acc\u001b[0m=\u001b[1;36m0\u001b[0m\u001b[1;36m.9372\u001b[0m\n"
      ]
     },
     "metadata": {},
     "output_type": "display_data"
    },
    {
     "data": {
      "application/vnd.jupyter.widget-view+json": {
       "model_id": "",
       "version_major": 2,
       "version_minor": 0
      },
      "text/plain": [
       "Output()"
      ]
     },
     "metadata": {},
     "output_type": "display_data"
    },
    {
     "data": {
      "text/html": [
       "<pre style=\"white-space:pre;overflow-x:auto;line-height:normal;font-family:Menlo,'DejaVu Sans Mono',consolas,'Courier New',monospace\"></pre>\n"
      ],
      "text/plain": []
     },
     "metadata": {},
     "output_type": "display_data"
    },
    {
     "data": {
      "text/html": [
       "<pre style=\"white-space:pre;overflow-x:auto;line-height:normal;font-family:Menlo,'DejaVu Sans Mono',consolas,'Courier New',monospace\">\n",
       "</pre>\n"
      ],
      "text/plain": [
       "\n"
      ]
     },
     "metadata": {},
     "output_type": "display_data"
    },
    {
     "data": {
      "application/vnd.jupyter.widget-view+json": {
       "model_id": "",
       "version_major": 2,
       "version_minor": 0
      },
      "text/plain": [
       "Output()"
      ]
     },
     "metadata": {},
     "output_type": "display_data"
    },
    {
     "data": {
      "text/html": [
       "<pre style=\"white-space:pre;overflow-x:auto;line-height:normal;font-family:Menlo,'DejaVu Sans Mono',consolas,'Courier New',monospace\"></pre>\n"
      ],
      "text/plain": []
     },
     "metadata": {},
     "output_type": "display_data"
    },
    {
     "data": {
      "text/html": [
       "<pre style=\"white-space:pre;overflow-x:auto;line-height:normal;font-family:Menlo,'DejaVu Sans Mono',consolas,'Courier New',monospace\">\n",
       "</pre>\n"
      ],
      "text/plain": [
       "\n"
      ]
     },
     "metadata": {},
     "output_type": "display_data"
    },
    {
     "data": {
      "text/html": [
       "<pre style=\"white-space:pre;overflow-x:auto;line-height:normal;font-family:Menlo,'DejaVu Sans Mono',consolas,'Courier New',monospace\">Epoch <span style=\"color: #008080; text-decoration-color: #008080; font-weight: bold\">10</span>/<span style=\"color: #008080; text-decoration-color: #008080; font-weight: bold\">14</span>, <span style=\"color: #808000; text-decoration-color: #808000\">loss</span>=<span style=\"color: #008080; text-decoration-color: #008080; font-weight: bold\">0.1140</span>, <span style=\"color: #808000; text-decoration-color: #808000\">val_loss</span>=<span style=\"color: #008080; text-decoration-color: #008080; font-weight: bold\">0.1415</span> ,<span style=\"color: #808000; text-decoration-color: #808000\">f1</span>=<span style=\"color: #008080; text-decoration-color: #008080; font-weight: bold\">0.8827</span>, <span style=\"color: #808000; text-decoration-color: #808000\">val_f1</span>=<span style=\"color: #008080; text-decoration-color: #008080; font-weight: bold\">0.8641</span> ,<span style=\"color: #808000; text-decoration-color: #808000\">acc</span>=<span style=\"color: #008080; text-decoration-color: #008080; font-weight: bold\">0.9466</span>, \n",
       "<span style=\"color: #808000; text-decoration-color: #808000\">val_acc</span>=<span style=\"color: #008080; text-decoration-color: #008080; font-weight: bold\">0.9395</span>\n",
       "</pre>\n"
      ],
      "text/plain": [
       "Epoch \u001b[1;36m10\u001b[0m/\u001b[1;36m14\u001b[0m, \u001b[33mloss\u001b[0m=\u001b[1;36m0\u001b[0m\u001b[1;36m.1140\u001b[0m, \u001b[33mval_loss\u001b[0m=\u001b[1;36m0\u001b[0m\u001b[1;36m.1415\u001b[0m ,\u001b[33mf1\u001b[0m=\u001b[1;36m0\u001b[0m\u001b[1;36m.8827\u001b[0m, \u001b[33mval_f1\u001b[0m=\u001b[1;36m0\u001b[0m\u001b[1;36m.8641\u001b[0m ,\u001b[33macc\u001b[0m=\u001b[1;36m0\u001b[0m\u001b[1;36m.9466\u001b[0m, \n",
       "\u001b[33mval_acc\u001b[0m=\u001b[1;36m0\u001b[0m\u001b[1;36m.9395\u001b[0m\n"
      ]
     },
     "metadata": {},
     "output_type": "display_data"
    },
    {
     "data": {
      "application/vnd.jupyter.widget-view+json": {
       "model_id": "",
       "version_major": 2,
       "version_minor": 0
      },
      "text/plain": [
       "Output()"
      ]
     },
     "metadata": {},
     "output_type": "display_data"
    },
    {
     "data": {
      "text/html": [
       "<pre style=\"white-space:pre;overflow-x:auto;line-height:normal;font-family:Menlo,'DejaVu Sans Mono',consolas,'Courier New',monospace\"></pre>\n"
      ],
      "text/plain": []
     },
     "metadata": {},
     "output_type": "display_data"
    },
    {
     "data": {
      "text/html": [
       "<pre style=\"white-space:pre;overflow-x:auto;line-height:normal;font-family:Menlo,'DejaVu Sans Mono',consolas,'Courier New',monospace\">\n",
       "</pre>\n"
      ],
      "text/plain": [
       "\n"
      ]
     },
     "metadata": {},
     "output_type": "display_data"
    },
    {
     "data": {
      "application/vnd.jupyter.widget-view+json": {
       "model_id": "",
       "version_major": 2,
       "version_minor": 0
      },
      "text/plain": [
       "Output()"
      ]
     },
     "metadata": {},
     "output_type": "display_data"
    },
    {
     "data": {
      "text/html": [
       "<pre style=\"white-space:pre;overflow-x:auto;line-height:normal;font-family:Menlo,'DejaVu Sans Mono',consolas,'Courier New',monospace\"></pre>\n"
      ],
      "text/plain": []
     },
     "metadata": {},
     "output_type": "display_data"
    },
    {
     "data": {
      "text/html": [
       "<pre style=\"white-space:pre;overflow-x:auto;line-height:normal;font-family:Menlo,'DejaVu Sans Mono',consolas,'Courier New',monospace\">\n",
       "</pre>\n"
      ],
      "text/plain": [
       "\n"
      ]
     },
     "metadata": {},
     "output_type": "display_data"
    },
    {
     "data": {
      "text/html": [
       "<pre style=\"white-space:pre;overflow-x:auto;line-height:normal;font-family:Menlo,'DejaVu Sans Mono',consolas,'Courier New',monospace\">Epoch <span style=\"color: #008080; text-decoration-color: #008080; font-weight: bold\">11</span>/<span style=\"color: #008080; text-decoration-color: #008080; font-weight: bold\">14</span>, <span style=\"color: #808000; text-decoration-color: #808000\">loss</span>=<span style=\"color: #008080; text-decoration-color: #008080; font-weight: bold\">0.1086</span>, <span style=\"color: #808000; text-decoration-color: #808000\">val_loss</span>=<span style=\"color: #008080; text-decoration-color: #008080; font-weight: bold\">0.1377</span> ,<span style=\"color: #808000; text-decoration-color: #808000\">f1</span>=<span style=\"color: #008080; text-decoration-color: #008080; font-weight: bold\">0.8849</span>, <span style=\"color: #808000; text-decoration-color: #808000\">val_f1</span>=<span style=\"color: #008080; text-decoration-color: #008080; font-weight: bold\">0.8656</span> ,<span style=\"color: #808000; text-decoration-color: #808000\">acc</span>=<span style=\"color: #008080; text-decoration-color: #008080; font-weight: bold\">0.9482</span>, \n",
       "<span style=\"color: #808000; text-decoration-color: #808000\">val_acc</span>=<span style=\"color: #008080; text-decoration-color: #008080; font-weight: bold\">0.9407</span>\n",
       "</pre>\n"
      ],
      "text/plain": [
       "Epoch \u001b[1;36m11\u001b[0m/\u001b[1;36m14\u001b[0m, \u001b[33mloss\u001b[0m=\u001b[1;36m0\u001b[0m\u001b[1;36m.1086\u001b[0m, \u001b[33mval_loss\u001b[0m=\u001b[1;36m0\u001b[0m\u001b[1;36m.1377\u001b[0m ,\u001b[33mf1\u001b[0m=\u001b[1;36m0\u001b[0m\u001b[1;36m.8849\u001b[0m, \u001b[33mval_f1\u001b[0m=\u001b[1;36m0\u001b[0m\u001b[1;36m.8656\u001b[0m ,\u001b[33macc\u001b[0m=\u001b[1;36m0\u001b[0m\u001b[1;36m.9482\u001b[0m, \n",
       "\u001b[33mval_acc\u001b[0m=\u001b[1;36m0\u001b[0m\u001b[1;36m.9407\u001b[0m\n"
      ]
     },
     "metadata": {},
     "output_type": "display_data"
    },
    {
     "data": {
      "application/vnd.jupyter.widget-view+json": {
       "model_id": "",
       "version_major": 2,
       "version_minor": 0
      },
      "text/plain": [
       "Output()"
      ]
     },
     "metadata": {},
     "output_type": "display_data"
    },
    {
     "data": {
      "text/html": [
       "<pre style=\"white-space:pre;overflow-x:auto;line-height:normal;font-family:Menlo,'DejaVu Sans Mono',consolas,'Courier New',monospace\"></pre>\n"
      ],
      "text/plain": []
     },
     "metadata": {},
     "output_type": "display_data"
    },
    {
     "data": {
      "text/html": [
       "<pre style=\"white-space:pre;overflow-x:auto;line-height:normal;font-family:Menlo,'DejaVu Sans Mono',consolas,'Courier New',monospace\">\n",
       "</pre>\n"
      ],
      "text/plain": [
       "\n"
      ]
     },
     "metadata": {},
     "output_type": "display_data"
    },
    {
     "data": {
      "application/vnd.jupyter.widget-view+json": {
       "model_id": "",
       "version_major": 2,
       "version_minor": 0
      },
      "text/plain": [
       "Output()"
      ]
     },
     "metadata": {},
     "output_type": "display_data"
    },
    {
     "data": {
      "text/html": [
       "<pre style=\"white-space:pre;overflow-x:auto;line-height:normal;font-family:Menlo,'DejaVu Sans Mono',consolas,'Courier New',monospace\"></pre>\n"
      ],
      "text/plain": []
     },
     "metadata": {},
     "output_type": "display_data"
    },
    {
     "data": {
      "text/html": [
       "<pre style=\"white-space:pre;overflow-x:auto;line-height:normal;font-family:Menlo,'DejaVu Sans Mono',consolas,'Courier New',monospace\">\n",
       "</pre>\n"
      ],
      "text/plain": [
       "\n"
      ]
     },
     "metadata": {},
     "output_type": "display_data"
    },
    {
     "data": {
      "text/html": [
       "<pre style=\"white-space:pre;overflow-x:auto;line-height:normal;font-family:Menlo,'DejaVu Sans Mono',consolas,'Courier New',monospace\">Epoch <span style=\"color: #008080; text-decoration-color: #008080; font-weight: bold\">12</span>/<span style=\"color: #008080; text-decoration-color: #008080; font-weight: bold\">14</span>, <span style=\"color: #808000; text-decoration-color: #808000\">loss</span>=<span style=\"color: #008080; text-decoration-color: #008080; font-weight: bold\">0.1067</span>, <span style=\"color: #808000; text-decoration-color: #808000\">val_loss</span>=<span style=\"color: #008080; text-decoration-color: #008080; font-weight: bold\">0.1352</span> ,<span style=\"color: #808000; text-decoration-color: #808000\">f1</span>=<span style=\"color: #008080; text-decoration-color: #008080; font-weight: bold\">0.8867</span>, <span style=\"color: #808000; text-decoration-color: #808000\">val_f1</span>=<span style=\"color: #008080; text-decoration-color: #008080; font-weight: bold\">0.8650</span> ,<span style=\"color: #808000; text-decoration-color: #808000\">acc</span>=<span style=\"color: #008080; text-decoration-color: #008080; font-weight: bold\">0.9490</span>, \n",
       "<span style=\"color: #808000; text-decoration-color: #808000\">val_acc</span>=<span style=\"color: #008080; text-decoration-color: #008080; font-weight: bold\">0.9405</span>\n",
       "</pre>\n"
      ],
      "text/plain": [
       "Epoch \u001b[1;36m12\u001b[0m/\u001b[1;36m14\u001b[0m, \u001b[33mloss\u001b[0m=\u001b[1;36m0\u001b[0m\u001b[1;36m.1067\u001b[0m, \u001b[33mval_loss\u001b[0m=\u001b[1;36m0\u001b[0m\u001b[1;36m.1352\u001b[0m ,\u001b[33mf1\u001b[0m=\u001b[1;36m0\u001b[0m\u001b[1;36m.8867\u001b[0m, \u001b[33mval_f1\u001b[0m=\u001b[1;36m0\u001b[0m\u001b[1;36m.8650\u001b[0m ,\u001b[33macc\u001b[0m=\u001b[1;36m0\u001b[0m\u001b[1;36m.9490\u001b[0m, \n",
       "\u001b[33mval_acc\u001b[0m=\u001b[1;36m0\u001b[0m\u001b[1;36m.9405\u001b[0m\n"
      ]
     },
     "metadata": {},
     "output_type": "display_data"
    },
    {
     "data": {
      "application/vnd.jupyter.widget-view+json": {
       "model_id": "",
       "version_major": 2,
       "version_minor": 0
      },
      "text/plain": [
       "Output()"
      ]
     },
     "metadata": {},
     "output_type": "display_data"
    },
    {
     "data": {
      "text/html": [
       "<pre style=\"white-space:pre;overflow-x:auto;line-height:normal;font-family:Menlo,'DejaVu Sans Mono',consolas,'Courier New',monospace\"></pre>\n"
      ],
      "text/plain": []
     },
     "metadata": {},
     "output_type": "display_data"
    },
    {
     "data": {
      "text/html": [
       "<pre style=\"white-space:pre;overflow-x:auto;line-height:normal;font-family:Menlo,'DejaVu Sans Mono',consolas,'Courier New',monospace\">\n",
       "</pre>\n"
      ],
      "text/plain": [
       "\n"
      ]
     },
     "metadata": {},
     "output_type": "display_data"
    },
    {
     "data": {
      "application/vnd.jupyter.widget-view+json": {
       "model_id": "",
       "version_major": 2,
       "version_minor": 0
      },
      "text/plain": [
       "Output()"
      ]
     },
     "metadata": {},
     "output_type": "display_data"
    },
    {
     "data": {
      "text/html": [
       "<pre style=\"white-space:pre;overflow-x:auto;line-height:normal;font-family:Menlo,'DejaVu Sans Mono',consolas,'Courier New',monospace\"></pre>\n"
      ],
      "text/plain": []
     },
     "metadata": {},
     "output_type": "display_data"
    },
    {
     "data": {
      "text/html": [
       "<pre style=\"white-space:pre;overflow-x:auto;line-height:normal;font-family:Menlo,'DejaVu Sans Mono',consolas,'Courier New',monospace\">\n",
       "</pre>\n"
      ],
      "text/plain": [
       "\n"
      ]
     },
     "metadata": {},
     "output_type": "display_data"
    },
    {
     "data": {
      "text/html": [
       "<pre style=\"white-space:pre;overflow-x:auto;line-height:normal;font-family:Menlo,'DejaVu Sans Mono',consolas,'Courier New',monospace\">Epoch <span style=\"color: #008080; text-decoration-color: #008080; font-weight: bold\">13</span>/<span style=\"color: #008080; text-decoration-color: #008080; font-weight: bold\">14</span>, <span style=\"color: #808000; text-decoration-color: #808000\">loss</span>=<span style=\"color: #008080; text-decoration-color: #008080; font-weight: bold\">0.1032</span>, <span style=\"color: #808000; text-decoration-color: #808000\">val_loss</span>=<span style=\"color: #008080; text-decoration-color: #008080; font-weight: bold\">0.1330</span> ,<span style=\"color: #808000; text-decoration-color: #808000\">f1</span>=<span style=\"color: #008080; text-decoration-color: #008080; font-weight: bold\">0.8894</span>, <span style=\"color: #808000; text-decoration-color: #808000\">val_f1</span>=<span style=\"color: #008080; text-decoration-color: #008080; font-weight: bold\">0.8672</span> ,<span style=\"color: #808000; text-decoration-color: #808000\">acc</span>=<span style=\"color: #008080; text-decoration-color: #008080; font-weight: bold\">0.9503</span>, \n",
       "<span style=\"color: #808000; text-decoration-color: #808000\">val_acc</span>=<span style=\"color: #008080; text-decoration-color: #008080; font-weight: bold\">0.9413</span>\n",
       "</pre>\n"
      ],
      "text/plain": [
       "Epoch \u001b[1;36m13\u001b[0m/\u001b[1;36m14\u001b[0m, \u001b[33mloss\u001b[0m=\u001b[1;36m0\u001b[0m\u001b[1;36m.1032\u001b[0m, \u001b[33mval_loss\u001b[0m=\u001b[1;36m0\u001b[0m\u001b[1;36m.1330\u001b[0m ,\u001b[33mf1\u001b[0m=\u001b[1;36m0\u001b[0m\u001b[1;36m.8894\u001b[0m, \u001b[33mval_f1\u001b[0m=\u001b[1;36m0\u001b[0m\u001b[1;36m.8672\u001b[0m ,\u001b[33macc\u001b[0m=\u001b[1;36m0\u001b[0m\u001b[1;36m.9503\u001b[0m, \n",
       "\u001b[33mval_acc\u001b[0m=\u001b[1;36m0\u001b[0m\u001b[1;36m.9413\u001b[0m\n"
      ]
     },
     "metadata": {},
     "output_type": "display_data"
    },
    {
     "data": {
      "application/vnd.jupyter.widget-view+json": {
       "model_id": "",
       "version_major": 2,
       "version_minor": 0
      },
      "text/plain": [
       "Output()"
      ]
     },
     "metadata": {},
     "output_type": "display_data"
    },
    {
     "data": {
      "text/html": [
       "<pre style=\"white-space:pre;overflow-x:auto;line-height:normal;font-family:Menlo,'DejaVu Sans Mono',consolas,'Courier New',monospace\"></pre>\n"
      ],
      "text/plain": []
     },
     "metadata": {},
     "output_type": "display_data"
    },
    {
     "data": {
      "text/html": [
       "<pre style=\"white-space:pre;overflow-x:auto;line-height:normal;font-family:Menlo,'DejaVu Sans Mono',consolas,'Courier New',monospace\">\n",
       "</pre>\n"
      ],
      "text/plain": [
       "\n"
      ]
     },
     "metadata": {},
     "output_type": "display_data"
    },
    {
     "data": {
      "application/vnd.jupyter.widget-view+json": {
       "model_id": "",
       "version_major": 2,
       "version_minor": 0
      },
      "text/plain": [
       "Output()"
      ]
     },
     "metadata": {},
     "output_type": "display_data"
    },
    {
     "data": {
      "text/html": [
       "<pre style=\"white-space:pre;overflow-x:auto;line-height:normal;font-family:Menlo,'DejaVu Sans Mono',consolas,'Courier New',monospace\"></pre>\n"
      ],
      "text/plain": []
     },
     "metadata": {},
     "output_type": "display_data"
    },
    {
     "data": {
      "text/html": [
       "<pre style=\"white-space:pre;overflow-x:auto;line-height:normal;font-family:Menlo,'DejaVu Sans Mono',consolas,'Courier New',monospace\">\n",
       "</pre>\n"
      ],
      "text/plain": [
       "\n"
      ]
     },
     "metadata": {},
     "output_type": "display_data"
    },
    {
     "data": {
      "text/html": [
       "<pre style=\"white-space:pre;overflow-x:auto;line-height:normal;font-family:Menlo,'DejaVu Sans Mono',consolas,'Courier New',monospace\">Epoch <span style=\"color: #008080; text-decoration-color: #008080; font-weight: bold\">14</span>/<span style=\"color: #008080; text-decoration-color: #008080; font-weight: bold\">14</span>, <span style=\"color: #808000; text-decoration-color: #808000\">loss</span>=<span style=\"color: #008080; text-decoration-color: #008080; font-weight: bold\">0.1011</span>, <span style=\"color: #808000; text-decoration-color: #808000\">val_loss</span>=<span style=\"color: #008080; text-decoration-color: #008080; font-weight: bold\">0.1339</span> ,<span style=\"color: #808000; text-decoration-color: #808000\">f1</span>=<span style=\"color: #008080; text-decoration-color: #008080; font-weight: bold\">0.8906</span>, <span style=\"color: #808000; text-decoration-color: #808000\">val_f1</span>=<span style=\"color: #008080; text-decoration-color: #008080; font-weight: bold\">0.8665</span> ,<span style=\"color: #808000; text-decoration-color: #808000\">acc</span>=<span style=\"color: #008080; text-decoration-color: #008080; font-weight: bold\">0.9510</span>, \n",
       "<span style=\"color: #808000; text-decoration-color: #808000\">val_acc</span>=<span style=\"color: #008080; text-decoration-color: #008080; font-weight: bold\">0.9412</span>\n",
       "</pre>\n"
      ],
      "text/plain": [
       "Epoch \u001b[1;36m14\u001b[0m/\u001b[1;36m14\u001b[0m, \u001b[33mloss\u001b[0m=\u001b[1;36m0\u001b[0m\u001b[1;36m.1011\u001b[0m, \u001b[33mval_loss\u001b[0m=\u001b[1;36m0\u001b[0m\u001b[1;36m.1339\u001b[0m ,\u001b[33mf1\u001b[0m=\u001b[1;36m0\u001b[0m\u001b[1;36m.8906\u001b[0m, \u001b[33mval_f1\u001b[0m=\u001b[1;36m0\u001b[0m\u001b[1;36m.8665\u001b[0m ,\u001b[33macc\u001b[0m=\u001b[1;36m0\u001b[0m\u001b[1;36m.9510\u001b[0m, \n",
       "\u001b[33mval_acc\u001b[0m=\u001b[1;36m0\u001b[0m\u001b[1;36m.9412\u001b[0m\n"
      ]
     },
     "metadata": {},
     "output_type": "display_data"
    },
    {
     "data": {
      "image/png": "[encoded data removed]",
      "text/plain": [
       "<Figure size 1224x432 with 2 Axes>"
      ]
     },
     "metadata": {},
     "output_type": "display_data"
    }
   ],
   "source": [
    "import torch\n",
    "import torch.nn as nn\n",
    "import torch.nn.functional as F\n",
    "import torch.optim as optim\n",
    "from torch.optim.lr_scheduler import ReduceLROnPlateau\n",
    "\n",
    "from data import Data, train_loader, test_loader\n",
    "from config import CFG\n",
    "from utils import *\n",
    "from char2vec import BiLSTMtagger\n",
    "\n",
    "from tqdm import tqdm\n",
    "from rich import print\n",
    "from rich.progress import track\n",
    "from datetime import datetime\n",
    "\n",
    "from collections import defaultdict\n",
    "\n",
    "import warnings\n",
    "warnings.filterwarnings(\"ignore\")\n",
    "\n",
    "torch.manual_seed(CFG.seed)\n",
    "\n",
    "EMBEDDING_DIM = 3*CFG.out_ch2\n",
    "HIDDEN_DIM = 128\n",
    "TAGSET_SIZE = Data.label_vocab_size # en, es, other\n",
    "\n",
    "model = BiLSTMtagger(EMBEDDING_DIM, HIDDEN_DIM, TAGSET_SIZE)\n",
    "loss_function = nn.CrossEntropyLoss()#nn.NLLLoss()\n",
    "# optimizer = optim.SGD(model.parameters(), lr=CFG.lr)\n",
    "optimizer = optim.Adam(model.parameters(), lr=CFG.lr, weight_decay=CFG.wd)\n",
    "scheduler = ReduceLROnPlateau(optimizer, 'min', patience=150, factor=0.1, min_lr=1e-8)\n",
    "\n",
    "logs = defaultdict(list)\n",
    "\n",
    "best_val_score = 0\n",
    "\n",
    "for epoch in (range(CFG.n_epochs+1)):\n",
    "\n",
    "    model.train()  # again, normally you would NOT do 300 epochs, it is toy data\n",
    "    avg_loss = 0\n",
    "    train_targets, train_preds = [], []\n",
    "    if epoch!=0:\n",
    "        for sentence, label in track(train_loader,\n",
    "                    description=\"Training...\", total=len(train_loader), transient=True):\n",
    "            model.zero_grad()\n",
    "            scores = model(sentence)\n",
    "            loss = loss_function(scores.view(-1,scores.shape[-1]), label.view(-1))\n",
    "            loss.backward()\n",
    "            optimizer.step()\n",
    "            avg_loss += loss.item()/len(train_loader)\n",
    "            train_targets.extend(flatten(label))\n",
    "            train_preds.extend(flatten(scores.argmax(axis=-1)))\n",
    "\n",
    "    model.eval()\n",
    "    avg_val_loss = 0\n",
    "    val_targets, val_preds = [], []\n",
    "    for sentence, label in track(test_loader,\n",
    "                description=\"Validating...\", total=len(test_loader), transient=True):\n",
    "        scores = model(sentence)\n",
    "        avg_val_loss += loss_function(scores.view(-1,scores.shape[-1]), label.view(-1)).item()/len(test_loader)\n",
    "        val_targets.extend(flatten(label))\n",
    "        val_preds.extend(flatten(scores.argmax(axis=-1)))\n",
    "\n",
    "    scheduler.step(avg_val_loss)\n",
    "\n",
    "    #Calculate F1-score, accuracy_score\n",
    "    train_eval = evaluation(train_targets, train_preds, metrics=['f1', 'accuracy'])\n",
    "    val_eval   = evaluation(val_targets,   val_preds,   metrics=['f1', 'accuracy'])\n",
    "\n",
    "    width = len(str(CFG.n_epochs))\n",
    "    print(f\"Epoch {epoch:{width}}/{CFG.n_epochs}, loss={avg_loss:.4f}, val_loss={avg_val_loss:.4f}\\\n",
    " ,f1={train_eval['f1']:.4f}, val_f1={val_eval['f1']:.4f}\\\n",
    " ,acc={train_eval['accuracy']:.4f}, val_acc={val_eval['accuracy']:.4f}\")\n",
    "    if epoch!=0:\n",
    "        logs['train_loss'].append(avg_loss)\n",
    "        logs['val_loss'].append(avg_val_loss)\n",
    "        logs['train_f1'].append(train_eval['f1'])\n",
    "        logs['val_f1'].append(val_eval['f1'])\n",
    "        logs['train_accuracy'].append(train_eval['accuracy'])\n",
    "        logs['val_accuracy'].append(val_eval['accuracy'])\n",
    "    # saving the best model\n",
    "    if best_val_score < val_eval['f1']:\n",
    "        best_val_score = val_eval['f1']\n",
    "        best_model = model\n",
    "\n",
    "torch.save(best_model.state_dict(), f'../saved-models/model-[{datetime.now().strftime(\"%y%m%d%H%M\")}]{max(logs[\"val_f1\"]):.5f}.pth'.replace('0.','.'))\n",
    "torch.save(best_model.state_dict(), '../saved-models/bestmodel.pth')\n",
    "\n",
    "res_plot(logs, desc=\"BiLSTM+Char2Vec, 2Layers, Adam, lre-3, wde-5\")\n"
   ]
  },
  {
   "cell_type": "code",
   "execution_count": 12,
   "id": "c0e3fd07",
   "metadata": {},
   "outputs": [
    {
     "data": {
      "text/html": [
       "<pre style=\"white-space:pre;overflow-x:auto;line-height:normal;font-family:Menlo,'DejaVu Sans Mono',consolas,'Courier New',monospace\"><span style=\"font-weight: bold\">[</span><span style=\"color: #008000; text-decoration-color: #008000\">'en'</span>, <span style=\"color: #008000; text-decoration-color: #008000\">'es'</span>, <span style=\"color: #008000; text-decoration-color: #008000\">'other'</span>, <span style=\"color: #008000; text-decoration-color: #008000\">'es'</span>, <span style=\"color: #008000; text-decoration-color: #008000\">'es'</span>, <span style=\"color: #008000; text-decoration-color: #008000\">'es'</span>, <span style=\"color: #008000; text-decoration-color: #008000\">'es'</span>, <span style=\"color: #008000; text-decoration-color: #008000\">'other'</span><span style=\"font-weight: bold\">]</span>\n",
       "</pre>\n"
      ],
      "text/plain": [
       "\u001b[1m[\u001b[0m\u001b[32m'en'\u001b[0m, \u001b[32m'es'\u001b[0m, \u001b[32m'other'\u001b[0m, \u001b[32m'es'\u001b[0m, \u001b[32m'es'\u001b[0m, \u001b[32m'es'\u001b[0m, \u001b[32m'es'\u001b[0m, \u001b[32m'other'\u001b[0m\u001b[1m]\u001b[0m\n"
      ]
     },
     "metadata": {},
     "output_type": "display_data"
    },
    {
     "data": {
      "text/html": [
       "<pre style=\"white-space:pre;overflow-x:auto;line-height:normal;font-family:Menlo,'DejaVu Sans Mono',consolas,'Courier New',monospace\"><span style=\"font-weight: bold\">[</span><span style=\"color: #008000; text-decoration-color: #008000\">'es'</span>, <span style=\"color: #008000; text-decoration-color: #008000\">'en'</span>, <span style=\"color: #008000; text-decoration-color: #008000\">'en'</span>, <span style=\"color: #008000; text-decoration-color: #008000\">'en'</span>, <span style=\"color: #008000; text-decoration-color: #008000\">'en'</span>, <span style=\"color: #008000; text-decoration-color: #008000\">'other'</span><span style=\"font-weight: bold\">]</span>\n",
       "</pre>\n"
      ],
      "text/plain": [
       "\u001b[1m[\u001b[0m\u001b[32m'es'\u001b[0m, \u001b[32m'en'\u001b[0m, \u001b[32m'en'\u001b[0m, \u001b[32m'en'\u001b[0m, \u001b[32m'en'\u001b[0m, \u001b[32m'other'\u001b[0m\u001b[1m]\u001b[0m\n"
      ]
     },
     "metadata": {},
     "output_type": "display_data"
    },
    {
     "data": {
      "text/html": [
       "<pre style=\"white-space:pre;overflow-x:auto;line-height:normal;font-family:Menlo,'DejaVu Sans Mono',consolas,'Courier New',monospace\"><span style=\"font-weight: bold\">[</span><span style=\"color: #008000; text-decoration-color: #008000\">'es'</span>, <span style=\"color: #008000; text-decoration-color: #008000\">'en'</span>, <span style=\"color: #008000; text-decoration-color: #008000\">'en'</span>, <span style=\"color: #008000; text-decoration-color: #008000\">'en'</span>, <span style=\"color: #008000; text-decoration-color: #008000\">'es'</span>, <span style=\"color: #008000; text-decoration-color: #008000\">'es'</span>, <span style=\"color: #008000; text-decoration-color: #008000\">'es'</span>, <span style=\"color: #008000; text-decoration-color: #008000\">'es'</span>, <span style=\"color: #008000; text-decoration-color: #008000\">'other'</span><span style=\"font-weight: bold\">]</span>\n",
       "</pre>\n"
      ],
      "text/plain": [
       "\u001b[1m[\u001b[0m\u001b[32m'es'\u001b[0m, \u001b[32m'en'\u001b[0m, \u001b[32m'en'\u001b[0m, \u001b[32m'en'\u001b[0m, \u001b[32m'es'\u001b[0m, \u001b[32m'es'\u001b[0m, \u001b[32m'es'\u001b[0m, \u001b[32m'es'\u001b[0m, \u001b[32m'other'\u001b[0m\u001b[1m]\u001b[0m\n"
      ]
     },
     "metadata": {},
     "output_type": "display_data"
    }
   ],
   "source": [
    "EMBEDDING_DIM = 3*CFG.out_ch2\n",
    "HIDDEN_DIM = 128\n",
    "TAGSET_SIZE = Data.label_vocab_size # pad, en, es, other\n",
    "\n",
    "def predict(text):\n",
    "    model = BiLSTMtagger(EMBEDDING_DIM, HIDDEN_DIM, TAGSET_SIZE)\n",
    "    state = torch.load('../saved-models/bestmodel.pth')\n",
    "    model.load_state_dict(state)\n",
    "    model.eval()\n",
    "    tokens = text.split()\n",
    "    x = Data.embedding_s(Data.chr2id, [tokens+['.']])\n",
    "    out = model(torch.LongTensor(x)).argmax(dim=-1)[0].tolist()\n",
    "    labels = [Data.id2lbl[i] for i in out]\n",
    "\n",
    "    return labels[:-1]\n",
    "\n",
    "texts = [\"@andres_romero17 si , prometo hacer un audio :)\", \"This is an audio book !\",\n",
    "         \"@andres98 love his laptoooop soooooo much, si si  :)\"]\n",
    "for text in texts:\n",
    "    print(predict(text))"
   ]
  },
  {
   "cell_type": "code",
   "execution_count": 16,
   "id": "64b0d585",
   "metadata": {},
   "outputs": [
    {
     "data": {
      "text/plain": [
       "BiLSTMtagger(\n",
       "  (word_embeddings): Char2Vec(\n",
       "    (embeds): Embedding(300, 9)\n",
       "    (conv1): Sequential(\n",
       "      (0): Conv1d(9, 15, kernel_size=(3,), stride=(1,))\n",
       "      (1): ReLU()\n",
       "      (2): Dropout(p=0.1, inplace=False)\n",
       "    )\n",
       "    (convs2): ModuleList(\n",
       "      (0): Sequential(\n",
       "        (0): Conv1d(15, 7, kernel_size=(3,), stride=(1,))\n",
       "        (1): ReLU()\n",
       "      )\n",
       "      (1): Sequential(\n",
       "        (0): Conv1d(15, 7, kernel_size=(4,), stride=(1,))\n",
       "        (1): ReLU()\n",
       "      )\n",
       "      (2): Sequential(\n",
       "        (0): Conv1d(15, 7, kernel_size=(5,), stride=(1,))\n",
       "        (1): ReLU()\n",
       "      )\n",
       "    )\n",
       "    (linear): Sequential(\n",
       "      (0): Linear(in_features=21, out_features=21, bias=True)\n",
       "      (1): ReLU()\n",
       "    )\n",
       "  )\n",
       "  (lstm): LSTM(21, 128, num_layers=2, batch_first=True, dropout=0.25, bidirectional=True)\n",
       "  (hidden2tag): Linear(in_features=256, out_features=4, bias=True)\n",
       ")"
      ]
     },
     "execution_count": 16,
     "metadata": {},
     "output_type": "execute_result"
    }
   ],
   "source": [
    "best_model"
   ]
  },
  {
   "cell_type": "code",
   "execution_count": 24,
   "id": "359fb757",
   "metadata": {},
   "outputs": [
    {
     "name": "stdout",
     "output_type": "stream",
     "text": [
      "=================================================================\n",
      "Layer (type:depth-idx)                   Param #\n",
      "=================================================================\n",
      "├─Char2Vec: 1-1                          --\n",
      "|    └─Embedding: 2-1                    2,700\n",
      "|    └─Sequential: 2-2                   --\n",
      "|    |    └─Conv1d: 3-1                  420\n",
      "|    |    └─ReLU: 3-2                    --\n",
      "|    |    └─Dropout: 3-3                 --\n",
      "|    └─ModuleList: 2-3                   --\n",
      "|    |    └─Sequential: 3-4              322\n",
      "|    |    └─Sequential: 3-5              427\n",
      "|    |    └─Sequential: 3-6              532\n",
      "|    └─Sequential: 2-4                   --\n",
      "|    |    └─Linear: 3-7                  462\n",
      "|    |    └─ReLU: 3-8                    --\n",
      "├─LSTM: 1-2                              549,888\n",
      "├─Linear: 1-3                            1,028\n",
      "=================================================================\n",
      "Total params: 555,779\n",
      "Trainable params: 555,779\n",
      "Non-trainable params: 0\n",
      "=================================================================\n"
     ]
    },
    {
     "data": {
      "text/plain": [
       "=================================================================\n",
       "Layer (type:depth-idx)                   Param #\n",
       "=================================================================\n",
       "├─Char2Vec: 1-1                          --\n",
       "|    └─Embedding: 2-1                    2,700\n",
       "|    └─Sequential: 2-2                   --\n",
       "|    |    └─Conv1d: 3-1                  420\n",
       "|    |    └─ReLU: 3-2                    --\n",
       "|    |    └─Dropout: 3-3                 --\n",
       "|    └─ModuleList: 2-3                   --\n",
       "|    |    └─Sequential: 3-4              322\n",
       "|    |    └─Sequential: 3-5              427\n",
       "|    |    └─Sequential: 3-6              532\n",
       "|    └─Sequential: 2-4                   --\n",
       "|    |    └─Linear: 3-7                  462\n",
       "|    |    └─ReLU: 3-8                    --\n",
       "├─LSTM: 1-2                              549,888\n",
       "├─Linear: 1-3                            1,028\n",
       "=================================================================\n",
       "Total params: 555,779\n",
       "Trainable params: 555,779\n",
       "Non-trainable params: 0\n",
       "================================================================="
      ]
     },
     "execution_count": 24,
     "metadata": {},
     "output_type": "execute_result"
    }
   ],
   "source": [
    "from torchsummary import summary\n",
    "summary(best_model)"
   ]
  }
 ],
 "metadata": {
  "kernelspec": {
   "display_name": ".venv",
   "language": "python",
   "name": ".venv"
  },
  "language_info": {
   "codemirror_mode": {
    "name": "ipython",
    "version": 3
   },
   "file_extension": ".py",
   "mimetype": "text/x-python",
   "name": "python",
   "nbconvert_exporter": "python",
   "pygments_lexer": "ipython3",
   "version": "3.10.5"
  }
 },
 "nbformat": 4,
 "nbformat_minor": 5
}
